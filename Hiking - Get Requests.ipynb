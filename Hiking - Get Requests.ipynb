{
 "cells": [
  {
   "cell_type": "markdown",
   "metadata": {},
   "source": [
    "Data API is [here](https://www.hikingproject.com/data)."
   ]
  },
  {
   "cell_type": "code",
   "execution_count": 1,
   "metadata": {},
   "outputs": [],
   "source": [
    "import pandas as pd\n",
    "import numpy as np\n",
    "\n",
    "import requests\n",
    "import json\n",
    "import config"
   ]
  },
  {
   "cell_type": "markdown",
   "metadata": {},
   "source": [
    "## Colorado and Surrounding Areas"
   ]
  },
  {
   "cell_type": "code",
   "execution_count": 2,
   "metadata": {},
   "outputs": [],
   "source": [
    "#the four corners of Colorado\n",
    "northwest_lat= 40.9614\n",
    "northwest_lon = -109.0218\n",
    "\n",
    "northeast_lat = 40.9863\n",
    "northeast_lon = -102.037864\n",
    "\n",
    "southeast_lat = 36.9830\n",
    "southeast_lon = -102.0485\n",
    "\n",
    "southwest_lat = 37.0006\n",
    "southwest_lon = -109.0437"
   ]
  },
  {
   "cell_type": "code",
   "execution_count": 44,
   "metadata": {},
   "outputs": [],
   "source": [
    "#set up our ranges to iterate through\n",
    "long_range = np.arange(northeast_lon, northwest_lon, -0.1)\n",
    "lat_range = np.arange(northwest_lat, southwest_lat, -0.1)"
   ]
  },
  {
   "cell_type": "code",
   "execution_count": 3,
   "metadata": {},
   "outputs": [],
   "source": [
    "#items needed for api requests -- api_key hidden for security purposes\n",
    "api_key = config.api_key\n",
    "url = 'https://www.hikingproject.com/data/'\n",
    "extension = 'get-trails'"
   ]
  },
  {
   "cell_type": "code",
   "execution_count": 46,
   "metadata": {},
   "outputs": [],
   "source": [
    "#list to append our final values\n",
    "ID = []\n",
    "name = []\n",
    "summary = []\n",
    "difficulty = []\n",
    "stars = []\n",
    "star_votes= []\n",
    "location = []\n",
    "URL = []\n",
    "length = []\n",
    "ascent = []\n",
    "descent = []\n",
    "high = []\n",
    "low = []\n",
    "longitude = []\n",
    "latitude = []\n",
    "condition_status = []\n",
    "condition_details = []\n",
    "condition_date = []"
   ]
  },
  {
   "cell_type": "markdown",
   "metadata": {},
   "source": [
    "Time to start making requests and gathering our data!"
   ]
  },
  {
   "cell_type": "code",
   "execution_count": 47,
   "metadata": {},
   "outputs": [],
   "source": [
    "for i in lat_range:\n",
    "    for j in long_range:\n",
    "        #our parameters\n",
    "        params = {'key' : api_key, 'lat' : i, 'lon' : j, 'maxDistance' : 200, 'maxResults' : 500}\n",
    "        \n",
    "        req = requests.get(url + extension, params=params)\n",
    "        \n",
    "        if (req.status_code == 200):\n",
    "            parsed = json.loads(req.text)\n",
    "            trails = parsed['trails']\n",
    "            \n",
    "            for k in range(len(trails)):\n",
    "                ID.append(trails[k]['id'])\n",
    "                name.append(trails[k]['name'])    \n",
    "                summary.append(trails[k]['summary'])\n",
    "                difficulty.append(trails[k]['difficulty'])\n",
    "                stars.append(trails[k]['stars'])\n",
    "                star_votes.append(trails[k]['starVotes'])\n",
    "                location.append(trails[k]['location'])\n",
    "                URL.append(trails[k]['url'])\n",
    "                length.append(trails[k]['length'])\n",
    "                ascent.append(trails[k]['ascent'])\n",
    "                descent.append(trails[k]['descent'])\n",
    "                high.append(trails[k]['high'])\n",
    "                low.append(trails[k]['low'])\n",
    "                longitude.append(trails[k]['longitude'])\n",
    "                latitude.append(trails[k]['latitude'])\n",
    "                condition_status.append(trails[k]['conditionStatus'])\n",
    "                condition_details.append(trails[k]['conditionDetails'])\n",
    "                condition_date.append(trails[k]['conditionDate'])"
   ]
  },
  {
   "cell_type": "code",
   "execution_count": 48,
   "metadata": {},
   "outputs": [],
   "source": [
    "trail_df = pd.DataFrame()\n",
    "\n",
    "trail_df['id'] = ID\n",
    "trail_df['name'] = name\n",
    "trail_df['summary'] = summary\n",
    "trail_df['difficulty'] = difficulty\n",
    "trail_df['stars'] = stars\n",
    "trail_df['star_votes'] = star_votes\n",
    "trail_df['location'] = location\n",
    "trail_df['url'] = url\n",
    "trail_df['length'] = length\n",
    "trail_df['ascent'] = ascent\n",
    "trail_df['descent'] = descent\n",
    "trail_df['high'] = high\n",
    "trail_df['low'] = low\n",
    "trail_df['longitude'] = longitude\n",
    "trail_df['latitude'] = latitude\n",
    "trail_df['cond_status'] = condition_status\n",
    "trail_df['cond_details'] = condition_details\n",
    "trail_df['cond_date'] = condition_date"
   ]
  },
  {
   "cell_type": "code",
   "execution_count": 49,
   "metadata": {},
   "outputs": [],
   "source": [
    "trail_df.to_csv('hiking.csv', index=False)"
   ]
  },
  {
   "cell_type": "markdown",
   "metadata": {},
   "source": [
    "# Pacific Northwest Requests"
   ]
  },
  {
   "cell_type": "code",
   "execution_count": 3,
   "metadata": {},
   "outputs": [],
   "source": [
    "#list to append our final values\n",
    "ID = []\n",
    "name = []\n",
    "summary = []\n",
    "difficulty = []\n",
    "stars = []\n",
    "star_votes= []\n",
    "location = []\n",
    "URL = []\n",
    "length = []\n",
    "ascent = []\n",
    "descent = []\n",
    "high = []\n",
    "low = []\n",
    "longitude = []\n",
    "latitude = []\n",
    "condition_status = []\n",
    "condition_details = []\n",
    "condition_date = []"
   ]
  },
  {
   "cell_type": "code",
   "execution_count": 4,
   "metadata": {},
   "outputs": [],
   "source": [
    "#the four corners of Colorado\n",
    "northwest_lat= 49.2041\n",
    "northwest_lon = -125.1768\n",
    "\n",
    "northeast_lat = 48.8872\n",
    "northeast_lon = -109.4513\n",
    "\n",
    "southeast_lat = 41.9605\n",
    "southeast_lon = -102.0485\n",
    "\n",
    "southwest_lat = 42.1236\n",
    "southwest_lon = -124.0384\n",
    "\n",
    "#set up our ranges to iterate through\n",
    "long_range = np.arange(northeast_lon, northwest_lon, -1.0)\n",
    "lat_range = np.arange(northwest_lat, southwest_lat, -1.0)\n",
    "\n",
    "#things through the api\n",
    "api_key = config.api_key\n",
    "url = 'https://www.hikingproject.com/data/'\n",
    "extension = 'get-trails'\n",
    "\n",
    "\n",
    "for i in lat_range:\n",
    "    for j in long_range:\n",
    "        #our parameters\n",
    "        params = {'key' : api_key, 'lat' : i, 'lon' : j, 'maxDistance' : 200, 'maxResults' : 500}\n",
    "        \n",
    "        req = requests.get(url + extension, params=params)\n",
    "        \n",
    "        if (req.status_code == 200):\n",
    "            parsed = json.loads(req.text)\n",
    "            trails = parsed['trails']\n",
    "            \n",
    "            for k in range(len(trails)):\n",
    "                ID.append(trails[k]['id'])\n",
    "                name.append(trails[k]['name'])    \n",
    "                summary.append(trails[k]['summary'])\n",
    "                difficulty.append(trails[k]['difficulty'])\n",
    "                stars.append(trails[k]['stars'])\n",
    "                star_votes.append(trails[k]['starVotes'])\n",
    "                location.append(trails[k]['location'])\n",
    "                URL.append(trails[k]['url'])\n",
    "                length.append(trails[k]['length'])\n",
    "                ascent.append(trails[k]['ascent'])\n",
    "                descent.append(trails[k]['descent'])\n",
    "                high.append(trails[k]['high'])\n",
    "                low.append(trails[k]['low'])\n",
    "                longitude.append(trails[k]['longitude'])\n",
    "                latitude.append(trails[k]['latitude'])\n",
    "                condition_status.append(trails[k]['conditionStatus'])\n",
    "                condition_details.append(trails[k]['conditionDetails'])\n",
    "                condition_date.append(trails[k]['conditionDate'])               "
   ]
  },
  {
   "cell_type": "markdown",
   "metadata": {},
   "source": [
    "# Far Northeast Area Requests"
   ]
  },
  {
   "cell_type": "code",
   "execution_count": 5,
   "metadata": {},
   "outputs": [],
   "source": [
    "#the four corners of Colorado\n",
    "northwest_lat= 45.0390\n",
    "northwest_lon = -76.6291\n",
    "\n",
    "northeast_lon = -71.0488\n",
    "\n",
    "southwest_lat = -76.6102\n",
    "\n",
    "#set up our ranges to iterate through\n",
    "long_range = np.arange(northeast_lon, northwest_lon, -1.0)\n",
    "lat_range = np.arange(northwest_lat, southwest_lat, -1.0)\n",
    "\n",
    "#things through the api\n",
    "api_key = config.api_key\n",
    "url = 'https://www.hikingproject.com/data/'\n",
    "extension = 'get-trails'\n",
    "\n",
    "\n",
    "for i in lat_range:\n",
    "    for j in long_range:\n",
    "        #our parameters\n",
    "        params = {'key' : api_key, 'lat' : i, 'lon' : j, 'maxDistance' : 200, 'maxResults' : 500}\n",
    "        \n",
    "        req = requests.get(url + extension, params=params)\n",
    "        \n",
    "        if (req.status_code == 200):\n",
    "            parsed = json.loads(req.text)\n",
    "            trails = parsed['trails']\n",
    "            \n",
    "            for k in range(len(trails)):\n",
    "                ID.append(trails[k]['id'])\n",
    "                name.append(trails[k]['name'])    \n",
    "                summary.append(trails[k]['summary'])\n",
    "                difficulty.append(trails[k]['difficulty'])\n",
    "                stars.append(trails[k]['stars'])\n",
    "                star_votes.append(trails[k]['starVotes'])\n",
    "                location.append(trails[k]['location'])\n",
    "                URL.append(trails[k]['url'])\n",
    "                length.append(trails[k]['length'])\n",
    "                ascent.append(trails[k]['ascent'])\n",
    "                descent.append(trails[k]['descent'])\n",
    "                high.append(trails[k]['high'])\n",
    "                low.append(trails[k]['low'])\n",
    "                longitude.append(trails[k]['longitude'])\n",
    "                latitude.append(trails[k]['latitude'])\n",
    "                condition_status.append(trails[k]['conditionStatus'])\n",
    "                condition_details.append(trails[k]['conditionDetails'])\n",
    "                condition_date.append(trails[k]['conditionDate'])               "
   ]
  },
  {
   "cell_type": "markdown",
   "metadata": {},
   "source": [
    "# Combine PNW and Appal for one big dataframe to export"
   ]
  },
  {
   "cell_type": "code",
   "execution_count": 6,
   "metadata": {},
   "outputs": [],
   "source": [
    "trail_df = pd.DataFrame()\n",
    "\n",
    "trail_df['id'] = ID\n",
    "trail_df['name'] = name\n",
    "trail_df['summary'] = summary\n",
    "trail_df['difficulty'] = difficulty\n",
    "trail_df['stars'] = stars\n",
    "trail_df['star_votes'] = star_votes\n",
    "trail_df['location'] = location\n",
    "trail_df['url'] = url\n",
    "trail_df['length'] = length\n",
    "trail_df['ascent'] = ascent\n",
    "trail_df['descent'] = descent\n",
    "trail_df['high'] = high\n",
    "trail_df['low'] = low\n",
    "trail_df['longitude'] = longitude\n",
    "trail_df['latitude'] = latitude\n",
    "trail_df['cond_status'] = condition_status\n",
    "trail_df['cond_details'] = condition_details\n",
    "trail_df['cond_date'] = condition_date"
   ]
  },
  {
   "cell_type": "code",
   "execution_count": 7,
   "metadata": {},
   "outputs": [
    {
     "data": {
      "text/plain": [
       "92430"
      ]
     },
     "execution_count": 7,
     "metadata": {},
     "output_type": "execute_result"
    }
   ],
   "source": [
    "len(trail_df)"
   ]
  },
  {
   "cell_type": "markdown",
   "metadata": {},
   "source": [
    "Send this to our csv!"
   ]
  },
  {
   "cell_type": "code",
   "execution_count": null,
   "metadata": {},
   "outputs": [],
   "source": [
    "trail_df.to_csv('hiking_two.csv', index=False)"
   ]
  }
 ],
 "metadata": {
  "kernelspec": {
   "display_name": "Python 3",
   "language": "python",
   "name": "python3"
  },
  "language_info": {
   "codemirror_mode": {
    "name": "ipython",
    "version": 3
   },
   "file_extension": ".py",
   "mimetype": "text/x-python",
   "name": "python",
   "nbconvert_exporter": "python",
   "pygments_lexer": "ipython3",
   "version": "3.7.4"
  }
 },
 "nbformat": 4,
 "nbformat_minor": 2
}
